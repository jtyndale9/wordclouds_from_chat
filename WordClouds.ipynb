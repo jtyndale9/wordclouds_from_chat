{
 "cells": [
  {
   "cell_type": "code",
   "execution_count": null,
   "id": "bb907e1e",
   "metadata": {},
   "outputs": [],
   "source": [
    "from wordcloud import WordCloud, STOPWORDS\n",
    "import matplotlib.pyplot as plt\n",
    "import pandas as pd\n",
    "import regex as re"
   ]
  },
  {
   "cell_type": "code",
   "execution_count": null,
   "id": "c04206af",
   "metadata": {},
   "outputs": [],
   "source": [
    "data = pd.read_csv('file.txt',sep=\"\\n\", header=None)"
   ]
  },
  {
   "cell_type": "code",
   "execution_count": null,
   "id": "a41e3124",
   "metadata": {},
   "outputs": [],
   "source": [
    "data.columns = ['text']"
   ]
  },
  {
   "cell_type": "code",
   "execution_count": null,
   "id": "0629baaf",
   "metadata": {},
   "outputs": [],
   "source": [
    "data.head()"
   ]
  },
  {
   "cell_type": "code",
   "execution_count": null,
   "id": "944cf221",
   "metadata": {},
   "outputs": [],
   "source": [
    "data.iloc[5]['text']"
   ]
  },
  {
   "cell_type": "code",
   "execution_count": null,
   "id": "c6b85559",
   "metadata": {},
   "outputs": [],
   "source": [
    "for i in range(len(data)):\n",
    "    data.iloc[i]['text'] = re.sub(r'^.*? - ', '', data.iloc[i]['text'])"
   ]
  },
  {
   "cell_type": "code",
   "execution_count": null,
   "id": "04b610ed",
   "metadata": {},
   "outputs": [],
   "source": [
    "data.head()"
   ]
  },
  {
   "cell_type": "code",
   "execution_count": null,
   "id": "3b65873f",
   "metadata": {},
   "outputs": [],
   "source": [
    "name1_data = []\n",
    "name2_data = []\n",
    "name1 = False\n",
    "name2 = False\n",
    "\n",
    "for i in range(len(data)):\n",
    "    if 'name1' in data.iloc[i]['text'][:5]:\n",
    "        name1 = True\n",
    "        name2 = False\n",
    "    if 'name2' in data.iloc[i]['text'][:5]:\n",
    "        name2 = True\n",
    "        name1 = False\n",
    "        \n",
    "    if name1:\n",
    "        name1_data.append(data.iloc[i]['text'])\n",
    "    if name2:\n",
    "        name2_data.append(data.iloc[i]['text'])\n",
    "        \n",
    "        "
   ]
  },
  {
   "cell_type": "code",
   "execution_count": null,
   "id": "78b2196f",
   "metadata": {},
   "outputs": [],
   "source": [
    "name1_data"
   ]
  },
  {
   "cell_type": "code",
   "execution_count": null,
   "id": "e333655d",
   "metadata": {},
   "outputs": [],
   "source": [
    "for i, string in enumerate(name1_data):\n",
    "    if 'https:' in string:\n",
    "        name1_data.pop(i)\n",
    "        \n",
    "for i, string in enumerate(name2_data):\n",
    "    if 'https:' in string:\n",
    "        name2_data.pop(i)"
   ]
  },
  {
   "cell_type": "code",
   "execution_count": null,
   "id": "84b561af",
   "metadata": {},
   "outputs": [],
   "source": [
    "name1_data"
   ]
  },
  {
   "cell_type": "code",
   "execution_count": null,
   "id": "67f6502c",
   "metadata": {},
   "outputs": [],
   "source": [
    "for i in range(len(name1_data)):\n",
    "    name1_data[i] = re.sub(r'^.*?name1: ', '', name1_data[i])"
   ]
  },
  {
   "cell_type": "code",
   "execution_count": null,
   "id": "6d681e58",
   "metadata": {},
   "outputs": [],
   "source": [
    "for i in range(4):\n",
    "    for i, string in enumerate(name1_data):\n",
    "        if '<Media omitted>' in string:\n",
    "            name1_data.pop(i)"
   ]
  },
  {
   "cell_type": "code",
   "execution_count": null,
   "id": "2eac28f4",
   "metadata": {},
   "outputs": [],
   "source": [
    "name1_data"
   ]
  },
  {
   "cell_type": "code",
   "execution_count": null,
   "id": "c098d7dc",
   "metadata": {},
   "outputs": [],
   "source": [
    "for i in range(len(name2_data)):\n",
    "    name2_data[i] = re.sub(r'^.*?name2: ', '', name2_data[i])\n",
    "\n",
    "for i in range(4):\n",
    "    for i, string in enumerate(name2_data):\n",
    "        if '<Media omitted>' in string:\n",
    "            name2_data.pop(i)"
   ]
  },
  {
   "cell_type": "code",
   "execution_count": null,
   "id": "9afa3339",
   "metadata": {},
   "outputs": [],
   "source": [
    "name2_data"
   ]
  },
  {
   "cell_type": "code",
   "execution_count": null,
   "id": "0a8f5775",
   "metadata": {},
   "outputs": [],
   "source": [
    "tokens = name2_data[4].split()\n",
    "tokens"
   ]
  },
  {
   "cell_type": "code",
   "execution_count": null,
   "id": "c429f610",
   "metadata": {},
   "outputs": [],
   "source": [
    "tokens = val.split()\n",
    "     \n",
    "# Converts each token into lowercase\n",
    "for i in range(len(tokens)):\n",
    "    tokens[i] = tokens[i].lower()"
   ]
  },
  {
   "cell_type": "code",
   "execution_count": null,
   "id": "3cd90219",
   "metadata": {},
   "outputs": [],
   "source": [
    "import string\n",
    " \n",
    "test_str = 'Gfg, is best: for ! Geeks ;'\n",
    " \n",
    "test_str = test_str.translate(str.maketrans('', '', string.punctuation))\n",
    "print(test_str)"
   ]
  },
  {
   "cell_type": "code",
   "execution_count": null,
   "id": "212cccef",
   "metadata": {},
   "outputs": [],
   "source": [
    "name2_words = ''\n",
    "\n",
    "for sentence in name2_data:\n",
    "    sentence = sentence.translate(str.maketrans('', '', string.punctuation))\n",
    "    sentence = sentence.replace(\"'\", \"\")\n",
    "    tokens = sentence.split()\n",
    "    for i in range(len(tokens)):\n",
    "        tokens[i] = tokens[i].lower()\n",
    "    name2_words += \" \".join(tokens)+\" \""
   ]
  },
  {
   "cell_type": "code",
   "execution_count": null,
   "id": "128b04fa",
   "metadata": {},
   "outputs": [],
   "source": [
    "name2_words"
   ]
  },
  {
   "cell_type": "code",
   "execution_count": null,
   "id": "920cd776",
   "metadata": {},
   "outputs": [],
   "source": [
    "from cleantext import clean\n",
    "clean(name2_words)"
   ]
  },
  {
   "cell_type": "code",
   "execution_count": null,
   "id": "8f1774ba",
   "metadata": {},
   "outputs": [],
   "source": [
    "name2_words"
   ]
  },
  {
   "cell_type": "code",
   "execution_count": null,
   "id": "c75b253a",
   "metadata": {},
   "outputs": [],
   "source": [
    "stopwords = set(STOPWORDS)\n",
    "wordcloud = WordCloud(width = 800, height = 800,\n",
    "                background_color ='white',\n",
    "                stopwords = stopwords,\n",
    "                min_font_size = 10).generate(name2_words)\n",
    " \n",
    "# plot the WordCloud image                      \n",
    "plt.figure(figsize = (8, 8), facecolor = None)\n",
    "plt.imshow(wordcloud)\n",
    "plt.axis(\"off\")\n",
    "plt.tight_layout(pad = 0)\n",
    " \n",
    "plt.show()"
   ]
  },
  {
   "cell_type": "code",
   "execution_count": null,
   "id": "587a3f19",
   "metadata": {},
   "outputs": [],
   "source": [
    "name1_words = ''\n",
    "\n",
    "for sentence in name1_data:\n",
    "    sentence = sentence.translate(str.maketrans('', '', string.punctuation))\n",
    "    sentence = sentence.replace(\"'\", \"\")\n",
    "    tokens = sentence.split()\n",
    "    for i in range(len(tokens)):\n",
    "        tokens[i] = tokens[i].lower()\n",
    "        #if(tokens[i] == 's'):\n",
    "    for i, token in enumerate(tokens):\n",
    "        if(token == 's'):\n",
    "            tokens.pop(i)\n",
    "    name1_words += \" \".join(tokens)+\" \"\n",
    "name1_words"
   ]
  },
  {
   "cell_type": "code",
   "execution_count": null,
   "id": "592828c3",
   "metadata": {},
   "outputs": [],
   "source": [
    "stopwords = set(STOPWORDS)\n",
    "stopwords.add('s')\n",
    "stopwords.add('m')\n",
    "stopwords.add('re')"
   ]
  },
  {
   "cell_type": "code",
   "execution_count": null,
   "id": "58dc63ed",
   "metadata": {},
   "outputs": [],
   "source": [
    "\n",
    "wordcloud = WordCloud(width = 800, height = 800,\n",
    "                background_color ='white',\n",
    "                stopwords = stopwords,\n",
    "                min_font_size = 10).generate(name1_words)\n",
    " \n",
    "# plot the WordCloud image                      \n",
    "plt.figure(figsize = (8, 8), facecolor = None)\n",
    "plt.imshow(wordcloud)\n",
    "plt.axis(\"off\")\n",
    "plt.tight_layout(pad = 0)\n",
    " \n",
    "plt.show()"
   ]
  }
 ],
 "metadata": {
  "kernelspec": {
   "display_name": "Python 3",
   "language": "python",
   "name": "python3"
  },
  "language_info": {
   "codemirror_mode": {
    "name": "ipython",
    "version": 3
   },
   "file_extension": ".py",
   "mimetype": "text/x-python",
   "name": "python",
   "nbconvert_exporter": "python",
   "pygments_lexer": "ipython3",
   "version": "3.8.8"
  }
 },
 "nbformat": 4,
 "nbformat_minor": 5
}
